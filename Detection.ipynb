{
 "cells": [
  {
   "cell_type": "code",
   "execution_count": 11,
   "metadata": {},
   "outputs": [],
   "source": [
    "import os\n",
    "import numpy as np\n",
    "import cv2\n",
    "import pywt\n",
    "from PIL import Image\n",
    "from skimage.feature import local_binary_pattern\n",
    "from sklearn.svm import SVC\n",
    "from sklearn.ensemble import RandomForestClassifier\n",
    "from sklearn.model_selection import train_test_split\n",
    "from sklearn.preprocessing import StandardScaler\n",
    "from sklearn.metrics import accuracy_score, classification_report\n",
    "from joblib import Parallel, delayed\n"
   ]
  },
  {
   "cell_type": "code",
   "execution_count": 10,
   "metadata": {},
   "outputs": [
    {
     "name": "stdout",
     "output_type": "stream",
     "text": [
      "Collecting scikit-learn\n",
      "  Using cached scikit_learn-1.6.1-cp310-cp310-win_amd64.whl.metadata (15 kB)\n",
      "Requirement already satisfied: numpy>=1.19.5 in c:\\users\\hp\\appdata\\local\\packages\\pythonsoftwarefoundation.python.3.10_qbz5n2kfra8p0\\localcache\\local-packages\\python310\\site-packages (from scikit-learn) (2.1.3)\n",
      "Requirement already satisfied: scipy>=1.6.0 in c:\\users\\hp\\appdata\\local\\packages\\pythonsoftwarefoundation.python.3.10_qbz5n2kfra8p0\\localcache\\local-packages\\python310\\site-packages (from scikit-learn) (1.15.2)\n",
      "Collecting joblib>=1.2.0 (from scikit-learn)\n",
      "  Using cached joblib-1.4.2-py3-none-any.whl.metadata (5.4 kB)\n",
      "Collecting threadpoolctl>=3.1.0 (from scikit-learn)\n",
      "  Using cached threadpoolctl-3.6.0-py3-none-any.whl.metadata (13 kB)\n",
      "Using cached scikit_learn-1.6.1-cp310-cp310-win_amd64.whl (11.1 MB)\n",
      "Using cached joblib-1.4.2-py3-none-any.whl (301 kB)\n",
      "Using cached threadpoolctl-3.6.0-py3-none-any.whl (18 kB)\n",
      "Installing collected packages: threadpoolctl, joblib, scikit-learn\n",
      "Successfully installed joblib-1.4.2 scikit-learn-1.6.1 threadpoolctl-3.6.0\n"
     ]
    }
   ],
   "source": [
    "!pip install scikit-learn"
   ]
  },
  {
   "cell_type": "code",
   "execution_count": null,
   "metadata": {},
   "outputs": [],
   "source": [
    "# Define dataset paths\n",
    "folder_benign_train = r'data/test/benign'\n",
    "folder_malignant_train = r'Desktop/Skin cancer detection_mini project/data/train/malignant'\n",
    "folder_benign_test = r'Desktop/Skin cancer detection_mini project/data/test/benign'\n",
    "folder_malignant_test = r'Desktop/Skin cancer detection_mini project/data/test/malignant'"
   ]
  },
  {
   "cell_type": "code",
   "execution_count": 6,
   "metadata": {},
   "outputs": [],
   "source": [
    "# Load and preprocess images\n",
    "def read_image(imname):\n",
    "    img = Image.open(imname).convert(\"L\")  # Convert to grayscale\n",
    "    return np.asarray(img, dtype=np.uint8)\n",
    "def extract_contourlet_features(image):\n",
    "    coeffs = pywt.wavedec2(image, 'db1', level=3)\n",
    "    features = []\n",
    "    for coeff in coeffs:\n",
    "        if isinstance(coeff, tuple):\n",
    "            for subband in coeff:\n",
    "                features.append(np.mean(subband))\n",
    "                features.append(np.var(subband))\n",
    "        else:\n",
    "            features.append(np.mean(coeff))\n",
    "            features.append(np.var(coeff))\n",
    "    return features\n",
    "\n",
    "def extract_lbp_features(image, num_points=24, radius=3):\n",
    "    lbp = local_binary_pattern(image, num_points, radius, method=\"uniform\")\n",
    "    hist, _ = np.histogram(lbp.ravel(), bins=np.arange(0, num_points + 3), range=(0, num_points + 2))\n",
    "    return hist.astype(\"float\") / hist.sum()\n",
    "\n"
   ]
  },
  {
   "cell_type": "code",
   "execution_count": 7,
   "metadata": {},
   "outputs": [],
   "source": [
    "def load_images_from_folder(folder):\n",
    "    images = []\n",
    "    for filename in os.listdir(folder):\n",
    "        img_path = os.path.join(folder, filename)\n",
    "        try:\n",
    "            img = read_image(img_path)\n",
    "            images.append(extract_features(img))\n",
    "        except Exception as e:\n",
    "            print(f\"Error loading {img_path}: {e}\")\n",
    "    return np.array(images, dtype=\"float\")\n"
   ]
  },
  {
   "cell_type": "code",
   "execution_count": 8,
   "metadata": {},
   "outputs": [],
   "source": [
    "from PIL import Image\n",
    "import numpy as np\n",
    "import os\n",
    "\n",
    "def load_images_from_folder(folder, target_size=(100, 100)):\n",
    "    images = []\n",
    "    valid_extensions = (\".jpg\", \".jpeg\", \".png\", \".bmp\", \".tiff\")  # Supported formats\n",
    "    \n",
    "    for filename in os.listdir(folder):\n",
    "        img_path = os.path.join(folder, filename)\n",
    "        \n",
    "        if not filename.lower().endswith(valid_extensions):\n",
    "            print(f\"Skipping non-image file: {filename}\")\n",
    "            continue  # Skip non-image files\n",
    "        \n",
    "        try:\n",
    "            img = Image.open(img_path).convert(\"L\")  # Convert to grayscale\n",
    "            img = img.resize(target_size)  # Resize\n",
    "            img = np.array(img, dtype=np.uint8)  # Convert to NumPy array\n",
    "            images.append(img)\n",
    "        except Exception as e:\n",
    "            print(f\"Error loading {img_path}: {e}\")\n",
    "\n",
    "    return np.array(images) if images else np.array([])"
   ]
  },
  {
   "cell_type": "code",
   "execution_count": 9,
   "metadata": {},
   "outputs": [],
   "source": [
    "def extract_contourlet_features(image):\n",
    "    if len(image.shape) == 3:  # Convert RGB to Grayscale if needed\n",
    "        image = cv2.cvtColor(image, cv2.COLOR_BGR2GRAY)\n",
    "    elif len(image.shape) != 2:  # If image is not 2D, raise an error\n",
    "        raise ValueError(f\"Invalid image shape: {image.shape}. Expected 2D grayscale.\")\n",
    "    \n",
    "    coeffs = pywt.wavedec2(image, 'db1', level=3)  # Apply wavelet decomposition\n",
    "    features = []\n",
    "    for coeff in coeffs:\n",
    "        if isinstance(coeff, tuple):\n",
    "            for subband in coeff:\n",
    "                features.append(np.mean(subband))\n",
    "                features.append(np.var(subband))\n",
    "        else:\n",
    "            features.append(np.mean(coeff))\n",
    "            features.append(np.var(coeff))\n",
    "    return features\n"
   ]
  },
  {
   "cell_type": "code",
   "execution_count": 10,
   "metadata": {},
   "outputs": [],
   "source": [
    "# Local Binary Pattern Feature Extraction\n",
    "def extract_lbp_features(image, num_points=24, radius=3):\n",
    "    lbp = local_binary_pattern(image, num_points, radius, method=\"uniform\")\n",
    "    hist, _ = np.histogram(lbp.ravel(), bins=np.arange(0, num_points + 3), range=(0, num_points + 2))\n",
    "    return hist.astype(\"float\") / hist.sum()\n",
    "\n",
    "# Combined Feature Extraction\n",
    "def extract_features(image):\n",
    "    contourlet_features = extract_contourlet_features(image)\n",
    "    lbp_features = extract_lbp_features(image)\n",
    "    return np.concatenate((contourlet_features, lbp_features))\n",
    "\n",
    "# Parallel Processing for Feature Extraction\n",
    "def process_images_in_parallel(images):\n",
    "    return Parallel(n_jobs=-1)(delayed(extract_features)(img) for img in images)"
   ]
  },
  {
   "cell_type": "code",
   "execution_count": 11,
   "metadata": {},
   "outputs": [
    {
     "ename": "FileNotFoundError",
     "evalue": "[WinError 3] The system cannot find the path specified: 'Desktop/Skin cancer detection_mini project/data/train/benign'",
     "output_type": "error",
     "traceback": [
      "\u001b[1;31m---------------------------------------------------------------------------\u001b[0m",
      "\u001b[1;31mFileNotFoundError\u001b[0m                         Traceback (most recent call last)",
      "Cell \u001b[1;32mIn[11], line 2\u001b[0m\n\u001b[0;32m      1\u001b[0m \u001b[38;5;66;03m# Load dataset\u001b[39;00m\n\u001b[1;32m----> 2\u001b[0m X_benign \u001b[38;5;241m=\u001b[39m load_images_from_folder(folder_benign_train)\n\u001b[0;32m      3\u001b[0m X_malignant \u001b[38;5;241m=\u001b[39m load_images_from_folder(folder_malignant_train)\n\u001b[0;32m      4\u001b[0m X_benign_test \u001b[38;5;241m=\u001b[39m load_images_from_folder(folder_benign_test)\n",
      "Cell \u001b[1;32mIn[8], line 9\u001b[0m, in \u001b[0;36mload_images_from_folder\u001b[1;34m(folder, target_size)\u001b[0m\n\u001b[0;32m      6\u001b[0m images \u001b[38;5;241m=\u001b[39m []\n\u001b[0;32m      7\u001b[0m valid_extensions \u001b[38;5;241m=\u001b[39m (\u001b[38;5;124m\"\u001b[39m\u001b[38;5;124m.jpg\u001b[39m\u001b[38;5;124m\"\u001b[39m, \u001b[38;5;124m\"\u001b[39m\u001b[38;5;124m.jpeg\u001b[39m\u001b[38;5;124m\"\u001b[39m, \u001b[38;5;124m\"\u001b[39m\u001b[38;5;124m.png\u001b[39m\u001b[38;5;124m\"\u001b[39m, \u001b[38;5;124m\"\u001b[39m\u001b[38;5;124m.bmp\u001b[39m\u001b[38;5;124m\"\u001b[39m, \u001b[38;5;124m\"\u001b[39m\u001b[38;5;124m.tiff\u001b[39m\u001b[38;5;124m\"\u001b[39m)  \u001b[38;5;66;03m# Supported formats\u001b[39;00m\n\u001b[1;32m----> 9\u001b[0m \u001b[38;5;28;01mfor\u001b[39;00m filename \u001b[38;5;129;01min\u001b[39;00m os\u001b[38;5;241m.\u001b[39mlistdir(folder):\n\u001b[0;32m     10\u001b[0m     img_path \u001b[38;5;241m=\u001b[39m os\u001b[38;5;241m.\u001b[39mpath\u001b[38;5;241m.\u001b[39mjoin(folder, filename)\n\u001b[0;32m     12\u001b[0m     \u001b[38;5;28;01mif\u001b[39;00m \u001b[38;5;129;01mnot\u001b[39;00m filename\u001b[38;5;241m.\u001b[39mlower()\u001b[38;5;241m.\u001b[39mendswith(valid_extensions):\n",
      "\u001b[1;31mFileNotFoundError\u001b[0m: [WinError 3] The system cannot find the path specified: 'Desktop/Skin cancer detection_mini project/data/train/benign'"
     ]
    }
   ],
   "source": [
    "# Load dataset\n",
    "X_benign = load_images_from_folder(folder_benign_train)\n",
    "X_malignant = load_images_from_folder(folder_malignant_train)\n",
    "X_benign_test = load_images_from_folder(folder_benign_test)\n",
    "X_malignant_test = load_images_from_folder(folder_malignant_test)"
   ]
  },
  {
   "cell_type": "code",
   "execution_count": 35,
   "metadata": {},
   "outputs": [],
   "source": [
    "# Create labels\n",
    "y_benign = np.zeros(X_benign.shape[0])  # 0 for benign\n",
    "y_malignant = np.ones(X_malignant.shape[0])  # 1 for malignant\n",
    "y_benign_test = np.zeros(X_benign_test.shape[0])\n",
    "y_malignant_test = np.ones(X_malignant_test.shape[0])"
   ]
  },
  {
   "cell_type": "code",
   "execution_count": 36,
   "metadata": {},
   "outputs": [],
   "source": [
    "# Merge Data\n",
    "X_train = np.concatenate((X_benign, X_malignant), axis=0)\n",
    "y_train = np.concatenate((y_benign, y_malignant), axis=0)\n",
    "X_test = np.concatenate((X_benign_test, X_malignant_test), axis=0)\n",
    "y_test = np.concatenate((y_benign_test, y_malignant_test), axis=0)"
   ]
  },
  {
   "cell_type": "code",
   "execution_count": 37,
   "metadata": {},
   "outputs": [
    {
     "name": "stdout",
     "output_type": "stream",
     "text": [
      "X_train Shape: (2637, 100, 100)\n",
      "First Image Shape: (100, 100)\n"
     ]
    }
   ],
   "source": [
    "print(\"X_train Shape:\", X_train.shape)\n",
    "print(\"First Image Shape:\", X_train[0].shape)"
   ]
  },
  {
   "cell_type": "code",
   "execution_count": 39,
   "metadata": {},
   "outputs": [
    {
     "name": "stdout",
     "output_type": "stream",
     "text": [
      "SVM Accuracy: 0.7818181818181819\n"
     ]
    }
   ],
   "source": [
    "# Train SVM Classifier\n",
    "svm_model = SVC(kernel='linear')\n",
    "svm_model.fit(X_train_features, y_train)\n",
    "y_pred_svm = svm_model.predict(X_test_features)\n",
    "svm_acc = accuracy_score(y_test, y_pred_svm)\n",
    "print(\"SVM Accuracy:\", svm_acc)"
   ]
  },
  {
   "cell_type": "code",
   "execution_count": 44,
   "metadata": {},
   "outputs": [
    {
     "name": "stdout",
     "output_type": "stream",
     "text": [
      "Random Forest Accuracy: 0.8227272727272728\n"
     ]
    }
   ],
   "source": [
    "# Train Random Forest Classifier\n",
    "rf_model = RandomForestClassifier(n_estimators=100, random_state=42)\n",
    "rf_model.fit(X_train_features, y_train)\n",
    "y_pred_rf = rf_model.predict(X_test_features)\n",
    "rf_acc = accuracy_score(y_test, y_pred_rf)\n",
    "print(\"Random Forest Accuracy:\", rf_acc)"
   ]
  },
  {
   "cell_type": "code",
   "execution_count": 53,
   "metadata": {},
   "outputs": [
    {
     "ename": "ModuleNotFoundError",
     "evalue": "No module named 'tensorflow.keras'",
     "output_type": "error",
     "traceback": [
      "\u001b[1;31m---------------------------------------------------------------------------\u001b[0m",
      "\u001b[1;31mModuleNotFoundError\u001b[0m                       Traceback (most recent call last)",
      "Cell \u001b[1;32mIn[53], line 1\u001b[0m\n\u001b[1;32m----> 1\u001b[0m \u001b[38;5;28;01mfrom\u001b[39;00m\u001b[38;5;250m \u001b[39m\u001b[38;5;21;01mtensorflow\u001b[39;00m\u001b[38;5;21;01m.\u001b[39;00m\u001b[38;5;21;01mkeras\u001b[39;00m\u001b[38;5;21;01m.\u001b[39;00m\u001b[38;5;21;01mapplications\u001b[39;00m\u001b[38;5;250m \u001b[39m\u001b[38;5;28;01mimport\u001b[39;00m VGG19\n\u001b[0;32m      2\u001b[0m \u001b[38;5;28;01mfrom\u001b[39;00m\u001b[38;5;250m \u001b[39m\u001b[38;5;21;01mtensorflow\u001b[39;00m\u001b[38;5;21;01m.\u001b[39;00m\u001b[38;5;21;01mkeras\u001b[39;00m\u001b[38;5;21;01m.\u001b[39;00m\u001b[38;5;21;01mmodels\u001b[39;00m\u001b[38;5;250m \u001b[39m\u001b[38;5;28;01mimport\u001b[39;00m Model\n\u001b[0;32m      3\u001b[0m \u001b[38;5;28;01mfrom\u001b[39;00m\u001b[38;5;250m \u001b[39m\u001b[38;5;21;01mtensorflow\u001b[39;00m\u001b[38;5;21;01m.\u001b[39;00m\u001b[38;5;21;01mkeras\u001b[39;00m\u001b[38;5;21;01m.\u001b[39;00m\u001b[38;5;21;01mpreprocessing\u001b[39;00m\u001b[38;5;21;01m.\u001b[39;00m\u001b[38;5;21;01mimage\u001b[39;00m\u001b[38;5;250m \u001b[39m\u001b[38;5;28;01mimport\u001b[39;00m img_to_array, load_img\n",
      "\u001b[1;31mModuleNotFoundError\u001b[0m: No module named 'tensorflow.keras'"
     ]
    }
   ],
   "source": [
    "from tensorflow.keras.applications import VGG19\n",
    "from tensorflow.keras.models import Model\n",
    "from tensorflow.keras.preprocessing.image import img_to_array, load_img\n",
    "import numpy as np\n",
    "\n",
    "# Load VGG19 model without the top layer\n",
    "vgg19_model = VGG19(weights=\"imagenet\", include_top=False, pooling=\"avg\")\n",
    "\n",
    "# Function to extract deep features\n",
    "def extract_vgg19_features(img_path):\n",
    "    img = load_img(img_path, target_size=(224, 224))  # Resize image\n",
    "    img_array = img_to_array(img)\n",
    "    img_array = np.expand_dims(img_array, axis=0)  # Add batch dimension\n",
    "    img_array /= 255.0  # Normalize pixel values\n",
    "\n",
    "    features = vgg19_model.predict(img_array)\n",
    "    return features.flatten()  # Flatten the output\n"
   ]
  },
  {
   "cell_type": "code",
   "execution_count": 45,
   "metadata": {},
   "outputs": [
    {
     "name": "stdout",
     "output_type": "stream",
     "text": [
      "Best Model Selected: Random Forest\n"
     ]
    }
   ],
   "source": [
    "# Choose Best Model\n",
    "best_model = svm_model if svm_acc > rf_acc else rf_model\n",
    "print(\"Best Model Selected:\", \"SVM\" if best_model == svm_model else \"Random Forest\")\n"
   ]
  },
  {
   "cell_type": "code",
   "execution_count": 46,
   "metadata": {},
   "outputs": [],
   "source": [
    "from PIL import Image\n",
    "import numpy as np\n",
    "\n",
    "def read_image(image_path, target_size=(100, 100)):\n",
    "    \"\"\"Reads an image, converts to grayscale, and resizes it.\"\"\"\n",
    "    img = Image.open(image_path).convert(\"L\")  # Convert to grayscale\n",
    "    img = img.resize(target_size)  # Resize to match training size\n",
    "    return np.array(img, dtype=np.uint8)  # Convert to NumPy array\n",
    "\n",
    "def predict_skin_cancer(image_path):\n",
    "    \"\"\"Predicts skin cancer type (Benign/Malignant) for a given image.\"\"\"\n",
    "    img = read_image(image_path)  # Load and preprocess image\n",
    "    features = extract_features(img)  # Extract features\n",
    "\n",
    "    # Ensure `features` is a 2D array (1 sample, many features)\n",
    "    features = np.array(features).reshape(1, -1)  \n",
    "\n",
    "    # Get probabilities and prediction\n",
    "    pred_prob = best_model.predict_proba(features)[0]\n",
    "    pred_label = best_model.predict(features)[0]\n",
    "\n",
    "    return \"Benign\" if pred_label == 0 else \"Malignant\"\n",
    "\n",
    "\n"
   ]
  },
  {
   "cell_type": "code",
   "execution_count": 48,
   "metadata": {},
   "outputs": [
    {
     "name": "stdout",
     "output_type": "stream",
     "text": [
      "Prediction: Benign\n"
     ]
    }
   ],
   "source": [
    "# Example Prediction\n",
    "sample_image = r'C:\\Users\\HP\\Desktop\\Skin cancer detection_mini project\\data\\test\\benign\\1.jpg'\n",
    "print(\"Prediction:\", predict_skin_cancer(sample_image))"
   ]
  }
 ],
 "metadata": {
  "kernelspec": {
   "display_name": "Python 3",
   "language": "python",
   "name": "python3"
  },
  "language_info": {
   "codemirror_mode": {
    "name": "ipython",
    "version": 3
   },
   "file_extension": ".py",
   "mimetype": "text/x-python",
   "name": "python",
   "nbconvert_exporter": "python",
   "pygments_lexer": "ipython3",
   "version": "3.10.11"
  }
 },
 "nbformat": 4,
 "nbformat_minor": 4
}
